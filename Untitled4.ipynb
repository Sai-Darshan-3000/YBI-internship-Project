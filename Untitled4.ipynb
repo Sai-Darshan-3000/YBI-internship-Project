{
  "nbformat": 4,
  "nbformat_minor": 0,
  "metadata": {
    "colab": {
      "provenance": [],
      "authorship_tag": "ABX9TyNbup8Q2/PzS6b2daawbZ2b",
      "include_colab_link": true
    },
    "kernelspec": {
      "name": "python3",
      "display_name": "Python 3"
    },
    "language_info": {
      "name": "python"
    }
  },
  "cells": [
    {
      "cell_type": "markdown",
      "metadata": {
        "id": "view-in-github",
        "colab_type": "text"
      },
      "source": [
        "<a href=\"https://colab.research.google.com/github/Sai-Darshan-3000/YBI-internship-Project/blob/main/Untitled4.ipynb\" target=\"_parent\"><img src=\"https://colab.research.google.com/assets/colab-badge.svg\" alt=\"Open In Colab\"/></a>"
      ]
    },
    {
      "cell_type": "markdown",
      "source": [
        "# Movie Recommendation"
      ],
      "metadata": {
        "id": "0FkIAdncraHO"
      }
    },
    {
      "cell_type": "markdown",
      "source": [
        "**Objective:**\n",
        "\n",
        "To prompt the users for their favourite movie from a set of movies and to recommend a list of similar movies based on the users' prompt."
      ],
      "metadata": {
        "id": "PfEZ88mfroHH"
      }
    },
    {
      "cell_type": "markdown",
      "source": [
        "**Data Source:**\n",
        "\n",
        "https://github.com/YBIFoundation/Dataset"
      ],
      "metadata": {
        "id": "xVeQ1abisQYm"
      }
    },
    {
      "cell_type": "markdown",
      "source": [
        "**Import Library**"
      ],
      "metadata": {
        "id": "-188GVsmsrjt"
      }
    },
    {
      "cell_type": "code",
      "source": [
        "import pandas as pd\n",
        "from sklearn.feature_extraction.text import TfidfVectorizer\n",
        "from sklearn.metrics.pairwise import cosine_similarity\n",
        "from sklearn.model_selection import train_test_split\n",
        "from sklearn.metrics import precision_score, recall_score, f1_score\n",
        "import numpy as np"
      ],
      "metadata": {
        "id": "D3lbTAgMqjVI"
      },
      "execution_count": 14,
      "outputs": []
    },
    {
      "cell_type": "markdown",
      "source": [
        "**Import Data**"
      ],
      "metadata": {
        "id": "V43G84L6s4rg"
      }
    },
    {
      "cell_type": "code",
      "source": [
        "file_path = '/content/Movies Recommendation.csv'\n",
        "movies_df = pd.read_csv(file_path)"
      ],
      "metadata": {
        "id": "niW05N1SrmvE"
      },
      "execution_count": 15,
      "outputs": []
    },
    {
      "cell_type": "markdown",
      "source": [
        "**Describe Data and Visualization**"
      ],
      "metadata": {
        "id": "7cBUEatjtFCP"
      }
    },
    {
      "cell_type": "code",
      "source": [
        "print(movies_df.head())"
      ],
      "metadata": {
        "colab": {
          "base_uri": "https://localhost:8080/"
        },
        "id": "VAapWD9etI2s",
        "outputId": "2a89c408-53b8-42ee-8c66-ca1484b4e493"
      },
      "execution_count": 16,
      "outputs": [
        {
          "output_type": "stream",
          "name": "stdout",
          "text": [
            "   Movie_ID      Movie_Title                       Movie_Genre Movie_Language  \\\n",
            "0         1       Four Rooms                      Crime Comedy             en   \n",
            "1         2        Star Wars  Adventure Action Science Fiction             en   \n",
            "2         3     Finding Nemo                  Animation Family             en   \n",
            "3         4     Forrest Gump              Comedy Drama Romance             en   \n",
            "4         5  American Beauty                             Drama             en   \n",
            "\n",
            "   Movie_Budget  Movie_Popularity Movie_Release_Date  Movie_Revenue  \\\n",
            "0       4000000         22.876230         09-12-1995        4300000   \n",
            "1      11000000        126.393695         25-05-1977      775398007   \n",
            "2      94000000         85.688789         30-05-2003      940335536   \n",
            "3      55000000        138.133331         06-07-1994      677945399   \n",
            "4      15000000         80.878605         15-09-1999      356296601   \n",
            "\n",
            "   Movie_Runtime  Movie_Vote  ...  \\\n",
            "0           98.0         6.5  ...   \n",
            "1          121.0         8.1  ...   \n",
            "2          100.0         7.6  ...   \n",
            "3          142.0         8.2  ...   \n",
            "4          122.0         7.9  ...   \n",
            "\n",
            "                                      Movie_Homepage  \\\n",
            "0                                                NaN   \n",
            "1  http://www.starwars.com/films/star-wars-episod...   \n",
            "2              http://movies.disney.com/finding-nemo   \n",
            "3                                                NaN   \n",
            "4                      http://www.dreamworks.com/ab/   \n",
            "\n",
            "                                      Movie_Keywords  \\\n",
            "0          hotel new year's eve witch bet hotel room   \n",
            "1        android galaxy hermit death star lightsaber   \n",
            "2  father son relationship harbor underwater fish...   \n",
            "3  vietnam veteran hippie mentally disabled runni...   \n",
            "4  male nudity female nudity adultery midlife cri...   \n",
            "\n",
            "                                      Movie_Overview  \\\n",
            "0  It's Ted the Bellhop's first night on the job....   \n",
            "1  Princess Leia is captured and held hostage by ...   \n",
            "2  Nemo, an adventurous young clownfish, is unexp...   \n",
            "3  A man with a low IQ has accomplished great thi...   \n",
            "4  Lester Burnham, a depressed suburban father in...   \n",
            "\n",
            "                              Movie_Production_House  \\\n",
            "0  [{\"name\": \"Miramax Films\", \"id\": 14}, {\"name\":...   \n",
            "1  [{\"name\": \"Lucasfilm\", \"id\": 1}, {\"name\": \"Twe...   \n",
            "2     [{\"name\": \"Pixar Animation Studios\", \"id\": 3}]   \n",
            "3          [{\"name\": \"Paramount Pictures\", \"id\": 4}]   \n",
            "4  [{\"name\": \"DreamWorks SKG\", \"id\": 27}, {\"name\"...   \n",
            "\n",
            "                            Movie_Production_Country  \\\n",
            "0  [{\"iso_3166_1\": \"US\", \"name\": \"United States o...   \n",
            "1  [{\"iso_3166_1\": \"US\", \"name\": \"United States o...   \n",
            "2  [{\"iso_3166_1\": \"US\", \"name\": \"United States o...   \n",
            "3  [{\"iso_3166_1\": \"US\", \"name\": \"United States o...   \n",
            "4  [{\"iso_3166_1\": \"US\", \"name\": \"United States o...   \n",
            "\n",
            "                      Movie_Spoken_Language  \\\n",
            "0  [{\"iso_639_1\": \"en\", \"name\": \"English\"}]   \n",
            "1  [{\"iso_639_1\": \"en\", \"name\": \"English\"}]   \n",
            "2  [{\"iso_639_1\": \"en\", \"name\": \"English\"}]   \n",
            "3  [{\"iso_639_1\": \"en\", \"name\": \"English\"}]   \n",
            "4  [{\"iso_639_1\": \"en\", \"name\": \"English\"}]   \n",
            "\n",
            "                                       Movie_Tagline  \\\n",
            "0  Twelve outrageous guests. Four scandalous requ...   \n",
            "1       A long time ago in a galaxy far, far away...   \n",
            "2  There are 3.7 trillion fish in the ocean, they...   \n",
            "3  The world will never be the same, once you've ...   \n",
            "4                                       Look closer.   \n",
            "\n",
            "                                          Movie_Cast  \\\n",
            "0  Tim Roth Antonio Banderas Jennifer Beals Madon...   \n",
            "1  Mark Hamill Harrison Ford Carrie Fisher Peter ...   \n",
            "2  Albert Brooks Ellen DeGeneres Alexander Gould ...   \n",
            "3  Tom Hanks Robin Wright Gary Sinise Mykelti Wil...   \n",
            "4  Kevin Spacey Annette Bening Thora Birch Wes Be...   \n",
            "\n",
            "                                          Movie_Crew   Movie_Director  \n",
            "0  [{'name': 'Allison Anders', 'gender': 1, 'depa...   Allison Anders  \n",
            "1  [{'name': 'George Lucas', 'gender': 2, 'depart...     George Lucas  \n",
            "2  [{'name': 'Andrew Stanton', 'gender': 2, 'depa...   Andrew Stanton  \n",
            "3  [{'name': 'Alan Silvestri', 'gender': 2, 'depa...  Robert Zemeckis  \n",
            "4  [{'name': 'Thomas Newman', 'gender': 2, 'depar...       Sam Mendes  \n",
            "\n",
            "[5 rows x 21 columns]\n"
          ]
        }
      ]
    },
    {
      "cell_type": "markdown",
      "source": [
        "**Data Preprocessing**"
      ],
      "metadata": {
        "id": "YRfNy7nBtqPX"
      }
    },
    {
      "cell_type": "code",
      "source": [
        "movies_df = movies_df.fillna('')\n",
        "\n",
        "# Combine relevant features into a single string for each movie\n",
        "def combine_features(row):\n",
        "    return (str(row['Movie_ID']) + ' ' +\n",
        "            row['Movie_Title'] + ' ' +\n",
        "            row['Movie_Genre'] + ' ' +\n",
        "            row['Movie_Language'] + ' ' +\n",
        "            str(row['Movie_Budget']) + ' ' +\n",
        "            str(row['Movie_Popularity']) + ' ' +\n",
        "            row['Movie_Release_Date'] + ' ' +\n",
        "            str(row['Movie_Revenue']) + ' ' +\n",
        "            str(row['Movie_Runtime']) + ' ' +\n",
        "            str(row['Movie_Vote']) + ' ' +\n",
        "            row['Movie_Homepage'] + ' ' +\n",
        "            row['Movie_Keywords'] + ' ' +\n",
        "            row['Movie_Overview'] + ' ' +\n",
        "            row['Movie_Production_House'] + ' ' +\n",
        "            row['Movie_Production_Country'] + ' ' +\n",
        "            row['Movie_Spoken_Language'] + ' ' +\n",
        "            row['Movie_Tagline'] + ' ' +\n",
        "            row['Movie_Cast'] + ' ' +\n",
        "            row['Movie_Crew'] + ' ' +\n",
        "            row['Movie_Director'])\n",
        "\n",
        "# Apply the function to create a combined feature set\n",
        "movies_df['combined_features'] = movies_df.apply(combine_features, axis=1)\n"
      ],
      "metadata": {
        "id": "aVoaz8yetPSs"
      },
      "execution_count": 17,
      "outputs": []
    },
    {
      "cell_type": "markdown",
      "source": [
        "**Target**"
      ],
      "metadata": {
        "id": "7kZJmbzPt7t1"
      }
    },
    {
      "cell_type": "code",
      "source": [
        "print(movies_df['combined_features'].head())"
      ],
      "metadata": {
        "colab": {
          "base_uri": "https://localhost:8080/"
        },
        "id": "Ku2Hu3kztzUt",
        "outputId": "9a4b2bee-f2e7-458c-dc81-e018a94dbb68"
      },
      "execution_count": 18,
      "outputs": [
        {
          "output_type": "stream",
          "name": "stdout",
          "text": [
            "0    1 Four Rooms Crime Comedy en 4000000 22.87623 ...\n",
            "1    2 Star Wars Adventure Action Science Fiction e...\n",
            "2    3 Finding Nemo Animation Family en 94000000 85...\n",
            "3    4 Forrest Gump Comedy Drama Romance en 5500000...\n",
            "4    5 American Beauty Drama en 15000000 80.878605 ...\n",
            "Name: combined_features, dtype: object\n"
          ]
        }
      ]
    },
    {
      "cell_type": "markdown",
      "source": [
        "**Modeling**"
      ],
      "metadata": {
        "id": "1N_hGOMvuWO2"
      }
    },
    {
      "cell_type": "code",
      "source": [
        "tfidf = TfidfVectorizer(stop_words='english')\n",
        "tfidf_matrix = tfidf.fit_transform(movies_df['combined_features'])\n",
        "cosine_sim = cosine_similarity(tfidf_matrix, tfidf_matrix)"
      ],
      "metadata": {
        "id": "FxSogTHkuLrt"
      },
      "execution_count": 19,
      "outputs": []
    },
    {
      "cell_type": "code",
      "source": [
        "def recommend_movies(title, cosine_sim=cosine_sim):\n",
        "    if title.lower() not in movies_df['Movie_Title'].str.lower().values:\n",
        "        return \"Movie not found in the dataset.\"\n",
        "\n",
        "    # Get the index of the movie that matches the title\n",
        "    idx = movies_df[movies_df['Movie_Title'].str.lower() == title.lower()].index[0]\n",
        "\n",
        "    # Get the pairwise similarity scores of all movies with the given movie\n",
        "    sim_scores = list(enumerate(cosine_sim[idx]))\n",
        "\n",
        "    # Sort the movies based on the similarity scores\n",
        "    sim_scores = sorted(sim_scores, key=lambda x: x[1], reverse=True)\n",
        "\n",
        "    # Get the indices of the 10 most similar movies\n",
        "    sim_scores = sim_scores[1:11]\n",
        "\n",
        "    # Get the movie titles\n",
        "    movie_indices = [i[0] for i in sim_scores]\n",
        "    return movies_df['Movie_Title'].iloc[movie_indices]\n"
      ],
      "metadata": {
        "id": "o9XzOtn4udqT"
      },
      "execution_count": 20,
      "outputs": []
    },
    {
      "cell_type": "markdown",
      "source": [
        "**Train and Test Split**"
      ],
      "metadata": {
        "id": "SeOFjG2XvB3s"
      }
    },
    {
      "cell_type": "code",
      "source": [
        "train, test = train_test_split(movies_df, test_size=0.2, random_state=42)"
      ],
      "metadata": {
        "id": "GudsbLgmvHFc"
      },
      "execution_count": 21,
      "outputs": []
    },
    {
      "cell_type": "markdown",
      "source": [
        "**Evaluation**"
      ],
      "metadata": {
        "id": "u9sTvP55uqVn"
      }
    },
    {
      "cell_type": "code",
      "source": [
        "def evaluate_model(train, test):\n",
        "    y_true = []\n",
        "    y_pred = []\n",
        "\n",
        "    for idx, row in test.iterrows():\n",
        "        title = row['Movie_Title']\n",
        "        actual_similar_movies = train[train.index != idx]['Movie_Title'].tolist()\n",
        "        recommended_movies = recommend_movies(title)\n",
        "\n",
        "        # Create binary vectors for evaluation\n",
        "        y_true_vector = [1 if movie in actual_similar_movies else 0 for movie in recommended_movies]\n",
        "        y_pred_vector = [1] * len(recommended_movies)\n",
        "\n",
        "        y_true.extend(y_true_vector)\n",
        "        y_pred.extend(y_pred_vector)\n",
        "\n",
        "    precision = precision_score(y_true, y_pred, average='macro')\n",
        "    recall = recall_score(y_true, y_pred, average='macro')\n",
        "    f1 = f1_score(y_true, y_pred, average='macro')\n",
        "\n",
        "    return precision, recall, f1\n",
        "\n",
        "# Evaluate the model\n",
        "precision, recall, f1 = evaluate_model(train, test)\n",
        "print(f'Precision: {precision}')\n",
        "print(f'Recall: {recall}')\n",
        "print(f'F1 Score: {f1}')"
      ],
      "metadata": {
        "colab": {
          "base_uri": "https://localhost:8080/"
        },
        "id": "WtokAtuvupcd",
        "outputId": "33c3f1cb-ddde-417f-e1fa-8af0beb35745"
      },
      "execution_count": 22,
      "outputs": [
        {
          "output_type": "stream",
          "name": "stdout",
          "text": [
            "Precision: 0.3914390756302521\n",
            "Recall: 0.5\n",
            "F1 Score: 0.43910917339303596\n"
          ]
        },
        {
          "output_type": "stream",
          "name": "stderr",
          "text": [
            "/usr/local/lib/python3.10/dist-packages/sklearn/metrics/_classification.py:1344: UndefinedMetricWarning: Precision is ill-defined and being set to 0.0 in labels with no predicted samples. Use `zero_division` parameter to control this behavior.\n",
            "  _warn_prf(average, modifier, msg_start, len(result))\n"
          ]
        }
      ]
    },
    {
      "cell_type": "markdown",
      "source": [
        "**Prediction:**"
      ],
      "metadata": {
        "id": "anJCokbBvnbO"
      }
    },
    {
      "cell_type": "code",
      "source": [
        "user_movie = input(\"Enter a movie name: \")\n",
        "print(\"Recommended movies:\")\n",
        "recommendations = recommend_movies(user_movie)\n",
        "if isinstance(recommendations, str):\n",
        "    print(recommendations)\n",
        "else:\n",
        "    for movie in recommendations:\n",
        "        print(movie)"
      ],
      "metadata": {
        "colab": {
          "base_uri": "https://localhost:8080/"
        },
        "id": "FN_9s0MpvZkL",
        "outputId": "05352793-b594-4cb6-d7ad-9a249df382fe"
      },
      "execution_count": 23,
      "outputs": [
        {
          "output_type": "stream",
          "name": "stdout",
          "text": [
            "Enter a movie name: Star Wars\n",
            "Recommended movies:\n",
            "The Empire Strikes Back\n",
            "Alexander\n",
            "The Day After Tomorrow\n",
            "Jurassic World\n",
            "The Chronicles of Riddick\n",
            "The Core\n",
            "Master and Commander: The Far Side of the World\n",
            "Harry Potter and the Chamber of Secrets\n",
            "Blade: Trinity\n",
            "Kill Bill: Vol. 1\n"
          ]
        }
      ]
    },
    {
      "cell_type": "markdown",
      "source": [
        "## **Explanation:**\n",
        "\n",
        "***Loading and Preprocessing Data:***\n",
        "\n",
        "The dataset is loaded and preprocessed to combine relevant features into a single string.\n",
        "\n",
        "***TF-IDF Vectorization and Cosine Similarity:***\n",
        "\n",
        "The combined features are converted into numerical format using TF-IDF, and cosine similarity is computed.\n",
        "\n",
        "***Recommendation Function:***\n",
        "\n",
        "The recommend_movies function is defined to get the top 10 similar movies based on the cosine similarity.\n",
        "\n",
        "***Train-Test Split:***\n",
        "\n",
        "The dataset is split into training and test sets.\n",
        "\n",
        "***Evaluation Function***:  \n",
        "\n",
        "The evaluate_model function computes precision, recall, and F1 score by comparing the recommended movies with the actual similar movies.\n",
        "\n",
        "***Evaluation Metrics***:\n",
        "\n",
        "The precision, recall, and F1 score are printed to evaluate the model's performance.\n",
        "\n",
        "This evaluation approach assumes that the ground truth for similar movies is the set of all movies excluding the one being tested. This is a basic evaluation approach; in practice, you might have a labeled dataset with known similar movies for more accurate evaluation."
      ],
      "metadata": {
        "id": "TMZc1yM-vuNU"
      }
    }
  ]
}